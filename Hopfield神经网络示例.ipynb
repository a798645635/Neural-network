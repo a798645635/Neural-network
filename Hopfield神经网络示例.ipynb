{
 "cells": [
  {
   "cell_type": "code",
   "execution_count": 53,
   "metadata": {},
   "outputs": [
    {
     "name": "stdout",
     "output_type": "stream",
     "text": [
      "[  78.94752598 1015.91835422   44.92114819]\n"
     ]
    }
   ],
   "source": [
    "import numpy as np\n",
    "\n",
    "# 定义训练集，即正常状态下的设备参数\n",
    "train_data = np.array([[75.0, 1013, 45], \n",
    "                       [76.0, 1012, 46], \n",
    "                       [78.0, 1015, 44], \n",
    "                       [80.0, 1017, 43]])\n",
    "# L1标准化之后，样本向量中所有元素的绝对值之和为1。\n",
    "# L2标准化之后，样本向量的欧几里得长度（即从原点到该点的直线距离）为1。\n",
    "# train_data_norm = train_data / np.linalg.norm(train_data)\n",
    "# 最大-最小归一化处理\n",
    "\n",
    "max_val = np.max(train_data,axis=0)\n",
    "min_val = np.min(train_data,axis=0)\n",
    "train_data_norm = (train_data - min_val) / (max_val - min_val)\n",
    "\n",
    "# 首先初始化一个全为0的权重矩阵\n",
    "weight_matrix = np.zeros((train_data_norm.shape[1], train_data_norm.shape[1]))\n",
    "\n",
    "# 然后，我们遍历训练数据，计算每个样本归一化后的外积，并将结果累加到权重矩阵中。\n",
    "for i in range(train_data.shape[0]):\n",
    "    weight_matrix += np.outer(train_data_norm[i], train_data_norm[i])\n",
    "np.fill_diagonal(weight_matrix, 0)\n",
    "\n",
    "# 定义测试数据，即警告状态下的设备参数\n",
    "test_data = np.array([82.0, 1018, 42])\n",
    "test_data_norm = (test_data - min_val) / (max_val - min_val)\n",
    "\n",
    "# 进行异步更新,Hopfield网络使用异步更新，即每次只更新一个神经元的状态。\n",
    "# 更新规则基于能量函数的概念：网络试图找到一种状态配置，使得整个网络的能量最低。\n",
    "# 如果当前神经元与其他神经元的加权和大于等于0，那么我们将该神经元的状态设置为1；否则，我们将其状态设置为-1。\n",
    "\n",
    "for _ in range(100):\n",
    "    for i in range(3):\n",
    "        test_data_norm[i] = 1 / (1 + np.exp(-np.dot(weight_matrix[i], test_data_norm)))\n",
    "\n",
    "# 逆归一化\n",
    "test_data_res = test_data_norm * (max_val - min_val) + min_val\n",
    "\n",
    "print(test_data_res)\n"
   ]
  }
 ],
 "metadata": {
  "interpreter": {
   "hash": "49b053aaa710f0e00fcf19d61f18f601538668544d149ba2483e3db8cc0b0054"
  },
  "kernelspec": {
   "display_name": "Python 3.7.13 64-bit ('association': conda)",
   "name": "python3"
  },
  "language_info": {
   "codemirror_mode": {
    "name": "ipython",
    "version": 3
   },
   "file_extension": ".py",
   "mimetype": "text/x-python",
   "name": "python",
   "nbconvert_exporter": "python",
   "pygments_lexer": "ipython3",
   "version": "3.7.13"
  },
  "orig_nbformat": 4
 },
 "nbformat": 4,
 "nbformat_minor": 2
}
